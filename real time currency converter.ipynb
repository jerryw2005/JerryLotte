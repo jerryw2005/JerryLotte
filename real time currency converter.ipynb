{
 "cells": [
  {
   "cell_type": "code",
   "execution_count": 2,
   "metadata": {},
   "outputs": [],
   "source": [
    "import requests"
   ]
  },
  {
   "cell_type": "code",
   "execution_count": 3,
   "metadata": {},
   "outputs": [],
   "source": [
    "response = requests.get('https://api.exchangeratesapi.io/latest')"
   ]
  },
  {
   "cell_type": "code",
   "execution_count": 4,
   "metadata": {},
   "outputs": [
    {
     "data": {
      "text/plain": [
       "b'{\"rates\":{\"CAD\":1.5324,\"HKD\":8.6788,\"ISK\":155.4,\"PHP\":55.834,\"DKK\":7.4526,\"HUF\":356.58,\"CZK\":26.74,\"AUD\":1.6344,\"RON\":4.8397,\"SEK\":10.4948,\"IDR\":16184.41,\"INR\":84.6235,\"BRL\":6.1118,\"RUB\":79.63,\"HRK\":7.5708,\"JPY\":120.66,\"THB\":34.624,\"CHF\":1.0651,\"SGD\":1.5648,\"PLN\":4.456,\"BGN\":1.9558,\"TRY\":7.6761,\"CNY\":7.9219,\"NOK\":10.912,\"NZD\":1.748,\"ZAR\":19.4425,\"USD\":1.1198,\"MXN\":25.947,\"ILS\":3.8821,\"GBP\":0.91243,\"KRW\":1345.83,\"MYR\":4.7989},\"base\":\"EUR\",\"date\":\"2020-06-30\"}'"
      ]
     },
     "execution_count": 4,
     "metadata": {},
     "output_type": "execute_result"
    }
   ],
   "source": [
    "response.content"
   ]
  },
  {
   "cell_type": "code",
   "execution_count": 5,
   "metadata": {},
   "outputs": [],
   "source": [
    "data = response.json()"
   ]
  },
  {
   "cell_type": "code",
   "execution_count": 6,
   "metadata": {},
   "outputs": [],
   "source": [
    "c = data[\"rates\"][\"CAD\"]"
   ]
  },
  {
   "cell_type": "code",
   "execution_count": null,
   "metadata": {},
   "outputs": [],
   "source": []
  },
  {
   "cell_type": "code",
   "execution_count": 8,
   "metadata": {},
   "outputs": [
    {
     "name": "stdout",
     "output_type": "stream",
     "text": [
      "To what do you want to convert euros to? (CAD, HKD, INR, NZD, USD, GBP, JPY) USD\n",
      "How many euros do you want to convert? 100\n",
      "100 euros is 111.97999999999999 USD. \n"
     ]
    }
   ],
   "source": [
    "currency = input('To what do you want to convert euros to? (CAD, HKD, INR, NZD, USD, GBP, JPY) ')\n",
    "num = data['rates'][currency]\n",
    "amount = int(input('How many euros do you want to convert? '))\n",
    "output = amount*num\n",
    "print('{} euros is {} {}. '.format(amount, output, currency))"
   ]
  },
  {
   "cell_type": "code",
   "execution_count": null,
   "metadata": {},
   "outputs": [],
   "source": []
  }
 ],
 "metadata": {
  "kernelspec": {
   "display_name": "Python 3",
   "language": "python",
   "name": "python3"
  }
 },
 "nbformat": 4,
 "nbformat_minor": 4
}
