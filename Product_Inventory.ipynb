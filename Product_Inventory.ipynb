{
 "cells": [
  {
   "cell_type": "code",
   "execution_count": 4,
   "metadata": {},
   "outputs": [
    {
     "name": "stdout",
     "output_type": "stream",
     "text": [
      "How many products do you want to store?: 1\n",
      "Enter product name: 1\n",
      "Enter price: 1\n",
      "Enter quantity: 1\n",
      "Products in inventory: 1\n",
      "Total value: 1\n"
     ]
    }
   ],
   "source": [
    "class Product:\n",
    "    \n",
    "    def __init__(self, name, quantity, price):\n",
    "        self.name = name\n",
    "        self.quantity = quantity\n",
    "        self.price = price\n",
    "\n",
    "class Inventory:\n",
    "    def __init__(self, products):\n",
    "        self.products = products\n",
    "        \n",
    "    def add_products(self):\n",
    "        product_name = input(\"Enter product name \")\n",
    "        product_price = int(input(\"Enter product price \"))\n",
    "        product_quantity = int(input(\"Enter product quantity \"))\n",
    "        product = Product(product_name, product_price, product_quantity)\n",
    "        self.products.append(product)\n",
    "                           \n",
    "        print(\"Added products\")\n",
    "        print(f\"total value: {self.value}\") \n",
    "    \n",
    "    def show_products(self):\n",
    "        for prod in self.products:\n",
    "            print(f\"name: {prod.name}, \")\n",
    "        \n",
    "    @property\n",
    "    def value(self):\n",
    "        return sum(product.price for product in self.products)\n",
    "\n",
    "range_value = int(input(\"How many products do you want to store?: \")) + 1\n",
    "\n",
    "products_in_inventory = []\n",
    "\n",
    "for product in range(1, range_value):\n",
    "    product = Product(input(\"Enter product name: \"), int(input(\"Enter price: \")),  int(input(\"Enter quantity: \")))\n",
    "    products_in_inventory.append(product)\n",
    "\n",
    "inventory = Inventory(products_in_inventory)\n",
    "for product in inventory.products:\n",
    "    print(\"Products in inventory: \" + product.name)\n",
    "print(\"Total value: \" + str(inventory.value))"
   ]
  },
  {
   "cell_type": "code",
   "execution_count": 5,
   "metadata": {},
   "outputs": [
    {
     "ename": "TypeError",
     "evalue": "__init__() missing 1 required positional argument: 'products'",
     "output_type": "error",
     "traceback": [
      "\u001b[1;31m---------------------------------------------------------------------------\u001b[0m",
      "\u001b[1;31mTypeError\u001b[0m                                 Traceback (most recent call last)",
      "\u001b[1;32m<ipython-input-5-eaa6950d4a72>\u001b[0m in \u001b[0;36m<module>\u001b[1;34m\u001b[0m\n\u001b[1;32m----> 1\u001b[1;33m \u001b[0mi\u001b[0m \u001b[1;33m=\u001b[0m \u001b[0mInventory\u001b[0m\u001b[1;33m(\u001b[0m\u001b[1;33m)\u001b[0m\u001b[1;33m\u001b[0m\u001b[1;33m\u001b[0m\u001b[0m\n\u001b[0m",
      "\u001b[1;31mTypeError\u001b[0m: __init__() missing 1 required positional argument: 'products'"
     ]
    }
   ],
   "source": [
    "inventory"
   ]
  },
  {
   "cell_type": "code",
   "execution_count": null,
   "metadata": {},
   "outputs": [],
   "source": []
  }
 ],
 "metadata": {
  "kernelspec": {
   "display_name": "Python 3",
   "language": "python",
   "name": "python3"
  },
  "language_info": {
   "codemirror_mode": {
    "name": "ipython",
    "version": 3
   },
   "file_extension": ".py",
   "mimetype": "text/x-python",
   "name": "python",
   "nbconvert_exporter": "python",
   "pygments_lexer": "ipython3",
   "version": "3.7.4"
  }
 },
 "nbformat": 4,
 "nbformat_minor": 2
}
